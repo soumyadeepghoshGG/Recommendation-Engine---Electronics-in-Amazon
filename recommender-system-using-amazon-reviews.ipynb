{
 "cells": [
  {
   "cell_type": "markdown",
   "metadata": {},
   "source": [
    "<div style=\"text-align:center\">\n",
    "    <h1>Implementing a recommendation engine like Amazon's</h1>\n",
    "</div>\n",
    "<div style=\"text-align:center\">\n",
    "    <img src=\"https://upload.wikimedia.org/wikipedia/commons/thumb/a/a9/Amazon_logo.svg/320px-Amazon_logo.svg.png\" alt=\"Amazon\" />\n",
    "</div>"
   ]
  },
  {
   "cell_type": "markdown",
   "metadata": {},
   "source": [
    "# Importing"
   ]
  },
  {
   "cell_type": "code",
   "execution_count": 1,
   "metadata": {
    "_cell_guid": "b1076dfc-b9ad-4769-8c92-a6c4dae69d19",
    "_uuid": "8f2839f25d086af736a60e9eeb907d3b93b6e0e5"
   },
   "outputs": [
    {
     "data": {
      "text/html": [
       "<div>\n",
       "<style scoped>\n",
       "    .dataframe tbody tr th:only-of-type {\n",
       "        vertical-align: middle;\n",
       "    }\n",
       "\n",
       "    .dataframe tbody tr th {\n",
       "        vertical-align: top;\n",
       "    }\n",
       "\n",
       "    .dataframe thead th {\n",
       "        text-align: right;\n",
       "    }\n",
       "</style>\n",
       "<table border=\"1\" class=\"dataframe\">\n",
       "  <thead>\n",
       "    <tr style=\"text-align: right;\">\n",
       "      <th></th>\n",
       "      <th>userId</th>\n",
       "      <th>productId</th>\n",
       "      <th>Rating</th>\n",
       "      <th>timestamp</th>\n",
       "    </tr>\n",
       "  </thead>\n",
       "  <tbody>\n",
       "    <tr>\n",
       "      <th>0</th>\n",
       "      <td>AKM1MP6P0OYPR</td>\n",
       "      <td>0132793040</td>\n",
       "      <td>5.0</td>\n",
       "      <td>1365811200</td>\n",
       "    </tr>\n",
       "    <tr>\n",
       "      <th>1</th>\n",
       "      <td>A2CX7LUOHB2NDG</td>\n",
       "      <td>0321732944</td>\n",
       "      <td>5.0</td>\n",
       "      <td>1341100800</td>\n",
       "    </tr>\n",
       "    <tr>\n",
       "      <th>2</th>\n",
       "      <td>A2NWSAGRHCP8N5</td>\n",
       "      <td>0439886341</td>\n",
       "      <td>1.0</td>\n",
       "      <td>1367193600</td>\n",
       "    </tr>\n",
       "    <tr>\n",
       "      <th>3</th>\n",
       "      <td>A2WNBOD3WNDNKT</td>\n",
       "      <td>0439886341</td>\n",
       "      <td>3.0</td>\n",
       "      <td>1374451200</td>\n",
       "    </tr>\n",
       "    <tr>\n",
       "      <th>4</th>\n",
       "      <td>A1GI0U4ZRJA8WN</td>\n",
       "      <td>0439886341</td>\n",
       "      <td>1.0</td>\n",
       "      <td>1334707200</td>\n",
       "    </tr>\n",
       "    <tr>\n",
       "      <th>...</th>\n",
       "      <td>...</td>\n",
       "      <td>...</td>\n",
       "      <td>...</td>\n",
       "      <td>...</td>\n",
       "    </tr>\n",
       "    <tr>\n",
       "      <th>7824477</th>\n",
       "      <td>A2YZI3C9MOHC0L</td>\n",
       "      <td>BT008UKTMW</td>\n",
       "      <td>5.0</td>\n",
       "      <td>1396569600</td>\n",
       "    </tr>\n",
       "    <tr>\n",
       "      <th>7824478</th>\n",
       "      <td>A322MDK0M89RHN</td>\n",
       "      <td>BT008UKTMW</td>\n",
       "      <td>5.0</td>\n",
       "      <td>1313366400</td>\n",
       "    </tr>\n",
       "    <tr>\n",
       "      <th>7824479</th>\n",
       "      <td>A1MH90R0ADMIK0</td>\n",
       "      <td>BT008UKTMW</td>\n",
       "      <td>4.0</td>\n",
       "      <td>1404172800</td>\n",
       "    </tr>\n",
       "    <tr>\n",
       "      <th>7824480</th>\n",
       "      <td>A10M2KEFPEQDHN</td>\n",
       "      <td>BT008UKTMW</td>\n",
       "      <td>4.0</td>\n",
       "      <td>1297555200</td>\n",
       "    </tr>\n",
       "    <tr>\n",
       "      <th>7824481</th>\n",
       "      <td>A2G81TMIOIDEQQ</td>\n",
       "      <td>BT008V9J9U</td>\n",
       "      <td>5.0</td>\n",
       "      <td>1312675200</td>\n",
       "    </tr>\n",
       "  </tbody>\n",
       "</table>\n",
       "<p>7824482 rows × 4 columns</p>\n",
       "</div>"
      ],
      "text/plain": [
       "                 userId   productId  Rating   timestamp\n",
       "0         AKM1MP6P0OYPR  0132793040     5.0  1365811200\n",
       "1        A2CX7LUOHB2NDG  0321732944     5.0  1341100800\n",
       "2        A2NWSAGRHCP8N5  0439886341     1.0  1367193600\n",
       "3        A2WNBOD3WNDNKT  0439886341     3.0  1374451200\n",
       "4        A1GI0U4ZRJA8WN  0439886341     1.0  1334707200\n",
       "...                 ...         ...     ...         ...\n",
       "7824477  A2YZI3C9MOHC0L  BT008UKTMW     5.0  1396569600\n",
       "7824478  A322MDK0M89RHN  BT008UKTMW     5.0  1313366400\n",
       "7824479  A1MH90R0ADMIK0  BT008UKTMW     4.0  1404172800\n",
       "7824480  A10M2KEFPEQDHN  BT008UKTMW     4.0  1297555200\n",
       "7824481  A2G81TMIOIDEQQ  BT008V9J9U     5.0  1312675200\n",
       "\n",
       "[7824482 rows x 4 columns]"
      ]
     },
     "execution_count": 1,
     "metadata": {},
     "output_type": "execute_result"
    }
   ],
   "source": [
    "# Import Libraries \n",
    "import numpy as np\n",
    "import pandas as pd\n",
    "import matplotlib.pyplot as plt\n",
    "import seaborn as sns\n",
    "from sklearn.model_selection import train_test_split\n",
    "from sklearn.metrics import mean_squared_error\n",
    "from sklearn.metrics.pairwise import cosine_similarity\n",
    "from sklearn.model_selection import train_test_split\n",
    "from sklearn.neighbors import NearestNeighbors\n",
    "from surprise import KNNWithMeans\n",
    "from surprise import Dataset\n",
    "from surprise import accuracy\n",
    "from surprise import Reader\n",
    "from surprise.model_selection import train_test_split\n",
    "import scipy.sparse\n",
    "from scipy.sparse import csr_matrix\n",
    "from scipy.sparse.linalg import svds\n",
    "import warnings\n",
    "warnings.simplefilter('ignore')\n",
    "from tabulate import tabulate\n",
    "\n",
    "# Load the Dataset and Add headers\n",
    "electronics_data = pd.read_csv(\"data/ratings_Electronics.csv\", names = ['userId', 'productId','Rating','timestamp'])\n",
    "electronics_data"
   ]
  },
  {
   "cell_type": "markdown",
   "metadata": {},
   "source": [
    "# Data Preprocessing"
   ]
  },
  {
   "cell_type": "markdown",
   "metadata": {},
   "source": [
    "Checking for missing values"
   ]
  },
  {
   "cell_type": "code",
   "execution_count": 2,
   "metadata": {},
   "outputs": [
    {
     "name": "stdout",
     "output_type": "stream",
     "text": [
      "Number of missing values across columns:\n",
      "userId       0\n",
      "productId    0\n",
      "Rating       0\n",
      "timestamp    0\n",
      "dtype: int64\n"
     ]
    }
   ],
   "source": [
    "print('Number of missing values across columns:', electronics_data.isnull().sum(), sep='\\n')"
   ]
  },
  {
   "cell_type": "markdown",
   "metadata": {},
   "source": [
    "Checking for duplicate rows"
   ]
  },
  {
   "cell_type": "code",
   "execution_count": 3,
   "metadata": {},
   "outputs": [
    {
     "name": "stdout",
     "output_type": "stream",
     "text": [
      "Number of duplicate rows: 0\n"
     ]
    }
   ],
   "source": [
    "print('Number of duplicate rows:', electronics_data.duplicated().sum())"
   ]
  },
  {
   "cell_type": "markdown",
   "metadata": {},
   "source": [
    "Dropping the TimeStamp Column"
   ]
  },
  {
   "cell_type": "code",
   "execution_count": 4,
   "metadata": {},
   "outputs": [],
   "source": [
    "electronics_data.drop(['timestamp'], axis=1, inplace=True)"
   ]
  },
  {
   "cell_type": "markdown",
   "metadata": {},
   "source": [
    "# EDA"
   ]
  },
  {
   "cell_type": "code",
   "execution_count": 5,
   "metadata": {},
   "outputs": [
    {
     "name": "stdout",
     "output_type": "stream",
     "text": [
      "Dataset has 7824482 rows and 3 columns.\n"
     ]
    }
   ],
   "source": [
    "print(f\"Dataset has {electronics_data.shape[0]} rows and {electronics_data.shape[1]} columns.\")"
   ]
  },
  {
   "cell_type": "code",
   "execution_count": 6,
   "metadata": {},
   "outputs": [
    {
     "name": "stdout",
     "output_type": "stream",
     "text": [
      "<class 'pandas.core.frame.DataFrame'>\n",
      "RangeIndex: 7824482 entries, 0 to 7824481\n",
      "Data columns (total 3 columns):\n",
      " #   Column     Dtype  \n",
      "---  ------     -----  \n",
      " 0   userId     object \n",
      " 1   productId  object \n",
      " 2   Rating     float64\n",
      "dtypes: float64(1), object(2)\n",
      "memory usage: 179.1+ MB\n"
     ]
    }
   ],
   "source": [
    "electronics_data.info()"
   ]
  },
  {
   "cell_type": "code",
   "execution_count": 7,
   "metadata": {},
   "outputs": [
    {
     "data": {
      "text/plain": [
       "count    7824482.00\n",
       "mean           4.01\n",
       "std            1.38\n",
       "min            1.00\n",
       "25%            3.00\n",
       "50%            5.00\n",
       "75%            5.00\n",
       "max            5.00\n",
       "Name: Rating, dtype: float64"
      ]
     },
     "metadata": {},
     "output_type": "display_data"
    },
    {
     "name": "stdout",
     "output_type": "stream",
     "text": [
      "\n",
      "\n",
      "Minimum rating is: 1\n",
      "Maximum rating is: 5\n"
     ]
    }
   ],
   "source": [
    "display(electronics_data.describe()['Rating'].T.round(2))\n",
    "\n",
    "print('\\n\\nMinimum rating is: %d' %(electronics_data['Rating'].min()))\n",
    "print('Maximum rating is: %d' %(electronics_data['Rating'].max()))"
   ]
  },
  {
   "cell_type": "code",
   "execution_count": 8,
   "metadata": {},
   "outputs": [
    {
     "data": {
      "text/html": [
       "<div>\n",
       "<style scoped>\n",
       "    .dataframe tbody tr th:only-of-type {\n",
       "        vertical-align: middle;\n",
       "    }\n",
       "\n",
       "    .dataframe tbody tr th {\n",
       "        vertical-align: top;\n",
       "    }\n",
       "\n",
       "    .dataframe thead th {\n",
       "        text-align: right;\n",
       "    }\n",
       "</style>\n",
       "<table border=\"1\" class=\"dataframe\">\n",
       "  <thead>\n",
       "    <tr style=\"text-align: right;\">\n",
       "      <th></th>\n",
       "      <th>Count</th>\n",
       "    </tr>\n",
       "  </thead>\n",
       "  <tbody>\n",
       "    <tr>\n",
       "      <th>Total number of ratings</th>\n",
       "      <td>7824482</td>\n",
       "    </tr>\n",
       "    <tr>\n",
       "      <th>Total number of unique Users</th>\n",
       "      <td>4201696</td>\n",
       "    </tr>\n",
       "    <tr>\n",
       "      <th>Total number of unique Products</th>\n",
       "      <td>476002</td>\n",
       "    </tr>\n",
       "  </tbody>\n",
       "</table>\n",
       "</div>"
      ],
      "text/plain": [
       "                                   Count\n",
       "Total number of ratings          7824482\n",
       "Total number of unique Users     4201696\n",
       "Total number of unique Products   476002"
      ]
     },
     "execution_count": 8,
     "metadata": {},
     "output_type": "execute_result"
    }
   ],
   "source": [
    "pd.DataFrame([electronics_data.shape[0], electronics_data['userId'].nunique(), electronics_data['productId'].nunique()],\n",
    "    index=[\"Total number of ratings\", \"Total number of unique Users\", \"Total number of unique Products\"], columns=['Count'])"
   ]
  },
  {
   "cell_type": "markdown",
   "metadata": {},
   "source": [
    "`Important!` Since the dataset has no item features I cannot use content based filtering. For completely new users I will recommend them top 10 or 20 trending items based on popularity. For current users since number of products (476K) is less than number of users(4.2MM), so item-item collaborative filtering would make sense."
   ]
  },
  {
   "cell_type": "markdown",
   "metadata": {},
   "source": [
    "#### Ratings Per User"
   ]
  },
  {
   "cell_type": "code",
   "execution_count": 9,
   "metadata": {},
   "outputs": [
    {
     "data": {
      "text/plain": [
       "userId\n",
       "A5JLAU2ARJ0BO     520\n",
       "ADLVFFE4VBT8      501\n",
       "A3OXHLG6DIBRW8    498\n",
       "A6FIAB28IS79      431\n",
       "A680RUE1FDO8B     406\n",
       "A1ODOGXEYECQQ8    380\n",
       "A36K2N527TXXJN    314\n",
       "A2AY4YUOX2N1BQ    311\n",
       "AWPODHOB4GFWL     308\n",
       "A25C2M3QF9G7OQ    296\n",
       "Name: Rating, dtype: int64"
      ]
     },
     "execution_count": 9,
     "metadata": {},
     "output_type": "execute_result"
    }
   ],
   "source": [
    "no_of_ratings_per_user = electronics_data.groupby(by='userId')['Rating'].count().sort_values(ascending=False)\n",
    "no_of_ratings_per_user.head(10)"
   ]
  },
  {
   "cell_type": "code",
   "execution_count": 10,
   "metadata": {},
   "outputs": [
    {
     "data": {
      "text/plain": [
       "count    4201696.00\n",
       "mean           1.86\n",
       "std            2.89\n",
       "min            1.00\n",
       "25%            1.00\n",
       "50%            1.00\n",
       "75%            2.00\n",
       "max          520.00\n",
       "Name: Rating, dtype: float64"
      ]
     },
     "execution_count": 10,
     "metadata": {},
     "output_type": "execute_result"
    }
   ],
   "source": [
    "no_of_ratings_per_user.describe().round(2)"
   ]
  },
  {
   "cell_type": "markdown",
   "metadata": {},
   "source": [
    "**Inference:** Looks like most people are providing ratings for 1 or 2 items."
   ]
  },
  {
   "cell_type": "code",
   "execution_count": 11,
   "metadata": {},
   "outputs": [
    {
     "name": "stdout",
     "output_type": "stream",
     "text": [
      "Out of the total 4201696 people who provided ratings, 1540 are individuals who have rated more than 50 products.\n"
     ]
    }
   ],
   "source": [
    "print(f\"Out of the total {len(no_of_ratings_per_user)} people who provided ratings, {sum(no_of_ratings_per_user >= 50)} are individuals who have rated more than 50 products.\")"
   ]
  },
  {
   "cell_type": "markdown",
   "metadata": {},
   "source": [
    "#### Ratings Per Product"
   ]
  },
  {
   "cell_type": "code",
   "execution_count": 12,
   "metadata": {},
   "outputs": [
    {
     "data": {
      "text/plain": [
       "productId\n",
       "B0074BW614    18244\n",
       "B00DR0PDNE    16454\n",
       "B007WTAJTO    14172\n",
       "B0019EHU8G    12285\n",
       "B006GWO5WK    12226\n",
       "B003ELYQGG    11617\n",
       "B003ES5ZUU    10276\n",
       "B007R5YDYA     9907\n",
       "B00622AG6S     9823\n",
       "B0002L5R78     9487\n",
       "Name: Rating, dtype: int64"
      ]
     },
     "execution_count": 12,
     "metadata": {},
     "output_type": "execute_result"
    }
   ],
   "source": [
    "no_of_ratings_per_product = electronics_data.groupby(by='productId')['Rating'].count().sort_values(ascending=False)\n",
    "no_of_ratings_per_product.head(10)"
   ]
  },
  {
   "cell_type": "code",
   "execution_count": 13,
   "metadata": {},
   "outputs": [
    {
     "data": {
      "text/plain": [
       "count    476002.00\n",
       "mean         16.44\n",
       "std         112.70\n",
       "min           1.00\n",
       "25%           1.00\n",
       "50%           2.00\n",
       "75%           7.00\n",
       "max       18244.00\n",
       "Name: Rating, dtype: float64"
      ]
     },
     "execution_count": 13,
     "metadata": {},
     "output_type": "execute_result"
    }
   ],
   "source": [
    "no_of_ratings_per_product.describe().round(2)"
   ]
  },
  {
   "cell_type": "markdown",
   "metadata": {},
   "source": [
    "**Inference:** About half of the products have received 1 or 2 ratings. Average rating per product is 16 but this average is inflated due to right skewness of rating per product."
   ]
  },
  {
   "cell_type": "code",
   "execution_count": 14,
   "metadata": {},
   "outputs": [
    {
     "name": "stdout",
     "output_type": "stream",
     "text": [
      "Out of the total 476002 products, only 26226 products have received more than 50 ratings.\n"
     ]
    }
   ],
   "source": [
    "print(f\"Out of the total {len(no_of_ratings_per_product)} products, only {sum(no_of_ratings_per_product >= 50)} products have received more than 50 ratings.\")"
   ]
  },
  {
   "cell_type": "markdown",
   "metadata": {},
   "source": [
    "# Data Visualization"
   ]
  },
  {
   "cell_type": "markdown",
   "metadata": {},
   "source": [
    "#### Distribution of the rating"
   ]
  },
  {
   "cell_type": "code",
   "execution_count": 15,
   "metadata": {},
   "outputs": [
    {
     "data": {
      "image/png": "[encoded data removed]",
      "text/plain": [
       "<Figure size 800x500 with 1 Axes>"
      ]
     },
     "metadata": {},
     "output_type": "display_data"
    }
   ],
   "source": [
    "plt.style.use('ggplot')\n",
    "plt.figure(figsize=(8, 5))\n",
    "sns.countplot(data=electronics_data, x='Rating')\n",
    "plt.title(\"Distribution of the Rating\")\n",
    "plt.ylabel(\"Number of Ratings\")\n",
    "plt.show();"
   ]
  },
  {
   "cell_type": "markdown",
   "metadata": {},
   "source": [
    "**Inference:** Looks like most of the people has given the rating of 5!"
   ]
  },
  {
   "cell_type": "markdown",
   "metadata": {},
   "source": [
    "#### Ratings per user Distribution"
   ]
  },
  {
   "cell_type": "code",
   "execution_count": 16,
   "metadata": {},
   "outputs": [
    {
     "data": {
      "image/png": "[encoded data removed]",
      "text/plain": [
       "<Figure size 800x500 with 1 Axes>"
      ]
     },
     "metadata": {},
     "output_type": "display_data"
    }
   ],
   "source": [
    "quantiles = no_of_ratings_per_user.quantile(np.arange(0, 1.01, 0.01), interpolation='higher') \n",
    "\n",
    "plt.figure(figsize=(8, 5))\n",
    "\n",
    "# Plot the quantiles as a line plot\n",
    "quantiles.plot()\n",
    "\n",
    "# Add scatter points for quantiles at 0.05 intervals\n",
    "plt.scatter(x=quantiles.index[::5], y=quantiles.values[::5], c='orange', label=\"quantiles with 0.05 intervals\")\n",
    "\n",
    "# Add scatter points for quantiles at 0.25 intervals\n",
    "plt.scatter(x=quantiles.index[::25], y=quantiles.values[::25], c='m', label=\"quantiles with 0.25 intervals\")\n",
    "\n",
    "plt.title(\"Ratings per product Distribution\")\n",
    "plt.ylabel('Number of ratings given by a user')\n",
    "plt.xlabel('Value at the quantile')\n",
    "plt.legend(loc='best')\n",
    "plt.show();"
   ]
  },
  {
   "cell_type": "markdown",
   "metadata": {},
   "source": [
    "#### Ratings per product Distribution"
   ]
  },
  {
   "cell_type": "code",
   "execution_count": 17,
   "metadata": {},
   "outputs": [
    {
     "data": {
      "image/png": "[encoded data removed]",
      "text/plain": [
       "<Figure size 800x500 with 1 Axes>"
      ]
     },
     "metadata": {},
     "output_type": "display_data"
    }
   ],
   "source": [
    "quantiles = no_of_ratings_per_product.quantile(np.arange(0, 1.01, 0.01), interpolation='higher') \n",
    "\n",
    "plt.figure(figsize=(8, 5))\n",
    "\n",
    "# Plot the quantiles as a line plot\n",
    "quantiles.plot()\n",
    "\n",
    "# Add scatter points for quantiles at 0.05 intervals\n",
    "plt.scatter(x=quantiles.index[::5], y=quantiles.values[::5], c='orange', label=\"quantiles with 0.05 intervals\")\n",
    "\n",
    "# Add scatter points for quantiles at 0.25 intervals\n",
    "plt.scatter(x=quantiles.index[::25], y=quantiles.values[::25], c='m', label=\"quantiles with 0.25 intervals\")\n",
    "\n",
    "plt.title(\"Ratings per product Distribution\")\n",
    "plt.ylabel('Number of ratings received by a product')\n",
    "plt.xlabel('Value at the quantile')\n",
    "plt.legend(loc='best')\n",
    "plt.show();"
   ]
  },
  {
   "cell_type": "markdown",
   "metadata": {},
   "source": [
    "**Inference:** We can see that both `ratings per user` and `ratings per product` are heavily clustered at the top end of the quantile."
   ]
  },
  {
   "cell_type": "markdown",
   "metadata": {},
   "source": [
    "# Popularity Based Recommendation\n",
    "\n",
    "Popularity based recommendation system works with the trend. It basically uses the items which are in trend right now. For example, if any product which is usually bought by every new user then there are chances that it may suggest that item to the user who just signed up.\n",
    "\n",
    "The problems with popularity based recommendation system is that the personalization is not available with this method i.e. even though you know the behaviour of the user you cannot recommend items accordingly."
   ]
  },
  {
   "cell_type": "code",
   "execution_count": 18,
   "metadata": {},
   "outputs": [
    {
     "data": {
      "text/html": [
       "<div>\n",
       "<style scoped>\n",
       "    .dataframe tbody tr th:only-of-type {\n",
       "        vertical-align: middle;\n",
       "    }\n",
       "\n",
       "    .dataframe tbody tr th {\n",
       "        vertical-align: top;\n",
       "    }\n",
       "\n",
       "    .dataframe thead th {\n",
       "        text-align: right;\n",
       "    }\n",
       "</style>\n",
       "<table border=\"1\" class=\"dataframe\">\n",
       "  <thead>\n",
       "    <tr style=\"text-align: right;\">\n",
       "      <th></th>\n",
       "      <th>productId</th>\n",
       "      <th>total ratings</th>\n",
       "      <th>mean rating</th>\n",
       "    </tr>\n",
       "  </thead>\n",
       "  <tbody>\n",
       "    <tr>\n",
       "      <th>0</th>\n",
       "      <td>0594451647</td>\n",
       "      <td>1</td>\n",
       "      <td>5.000000</td>\n",
       "    </tr>\n",
       "    <tr>\n",
       "      <th>1</th>\n",
       "      <td>0594481813</td>\n",
       "      <td>1</td>\n",
       "      <td>3.000000</td>\n",
       "    </tr>\n",
       "    <tr>\n",
       "      <th>2</th>\n",
       "      <td>0970407998</td>\n",
       "      <td>2</td>\n",
       "      <td>2.500000</td>\n",
       "    </tr>\n",
       "    <tr>\n",
       "      <th>3</th>\n",
       "      <td>0972683275</td>\n",
       "      <td>4</td>\n",
       "      <td>4.750000</td>\n",
       "    </tr>\n",
       "    <tr>\n",
       "      <th>4</th>\n",
       "      <td>1400501466</td>\n",
       "      <td>6</td>\n",
       "      <td>3.333333</td>\n",
       "    </tr>\n",
       "    <tr>\n",
       "      <th>...</th>\n",
       "      <td>...</td>\n",
       "      <td>...</td>\n",
       "      <td>...</td>\n",
       "    </tr>\n",
       "    <tr>\n",
       "      <th>48185</th>\n",
       "      <td>B00LED02VY</td>\n",
       "      <td>1</td>\n",
       "      <td>4.000000</td>\n",
       "    </tr>\n",
       "    <tr>\n",
       "      <th>48186</th>\n",
       "      <td>B00LGN7Y3G</td>\n",
       "      <td>1</td>\n",
       "      <td>5.000000</td>\n",
       "    </tr>\n",
       "    <tr>\n",
       "      <th>48187</th>\n",
       "      <td>B00LGQ6HL8</td>\n",
       "      <td>5</td>\n",
       "      <td>5.000000</td>\n",
       "    </tr>\n",
       "    <tr>\n",
       "      <th>48188</th>\n",
       "      <td>B00LI4ZZO8</td>\n",
       "      <td>2</td>\n",
       "      <td>4.500000</td>\n",
       "    </tr>\n",
       "    <tr>\n",
       "      <th>48189</th>\n",
       "      <td>B00LKG1MC8</td>\n",
       "      <td>1</td>\n",
       "      <td>5.000000</td>\n",
       "    </tr>\n",
       "  </tbody>\n",
       "</table>\n",
       "<p>48190 rows × 3 columns</p>\n",
       "</div>"
      ],
      "text/plain": [
       "        productId  total ratings  mean rating\n",
       "0      0594451647              1     5.000000\n",
       "1      0594481813              1     3.000000\n",
       "2      0970407998              2     2.500000\n",
       "3      0972683275              4     4.750000\n",
       "4      1400501466              6     3.333333\n",
       "...           ...            ...          ...\n",
       "48185  B00LED02VY              1     4.000000\n",
       "48186  B00LGN7Y3G              1     5.000000\n",
       "48187  B00LGQ6HL8              5     5.000000\n",
       "48188  B00LI4ZZO8              2     4.500000\n",
       "48189  B00LKG1MC8              1     5.000000\n",
       "\n",
       "[48190 rows x 3 columns]"
      ]
     },
     "execution_count": 18,
     "metadata": {},
     "output_type": "execute_result"
    }
   ],
   "source": [
    "# Product Ratings Approach: We set a threshold to consider products with minimum 50 ratings\n",
    "# products_ratings_min50 = electronics_data.groupby(\"productId\").filter(lambda x: x['Rating'].count() >= 50)\n",
    "# popular_50 = pd.DataFrame({\n",
    "#     \"productId\" : products_ratings_min50['productId'].unique(),\n",
    "#     'total ratings': products_ratings_min50.groupby('productId')['Rating'].count(),\n",
    "#     'mean rating': products_ratings_min50.groupby('productId')['Rating'].mean(),\n",
    "# }).reset_index(drop=True)\n",
    "\n",
    "\n",
    "\n",
    "# User Ratings Approach: We set a threshold to consider users who have rated more than 50 times\n",
    "user_ratings_min50 = electronics_data.groupby(\"userId\").filter(lambda x: x['Rating'].count() >= 50)\n",
    "\n",
    "popular_50 = pd.DataFrame({\n",
    "    \"productId\" : user_ratings_min50['productId'].unique(),\n",
    "    'total ratings': user_ratings_min50.groupby('productId')['Rating'].count(),\n",
    "    'mean rating': user_ratings_min50.groupby('productId')['Rating'].mean(),\n",
    "}).reset_index(drop=True)\n",
    "\n",
    "popular_50"
   ]
  },
  {
   "cell_type": "markdown",
   "metadata": {},
   "source": [
    "**NOTE**\n",
    "<p>Active users are emphasized in collaborative filtering, where recommendations are based on user behavior and preferences. The idea is to identify users with a substantial number of ratings, as these users contribute more information to the collaborative filtering process and thereby build a robust model. Active users also provide more reliable signals for similarity between items for item-item collaborative filtering.</p>\n",
    "<p>Active products are more relevant in content-based filtering, where recommendations are made by analyzing the features of items and suggesting similar ones.</p>"
   ]
  },
  {
   "cell_type": "markdown",
   "metadata": {},
   "source": [
    "#### Top 10 products"
   ]
  },
  {
   "cell_type": "code",
   "execution_count": 19,
   "metadata": {},
   "outputs": [
    {
     "data": {
      "image/png": "[encoded data removed]",
      "text/plain": [
       "<Figure size 800x500 with 1 Axes>"
      ]
     },
     "metadata": {},
     "output_type": "display_data"
    }
   ],
   "source": [
    "plt.figure(figsize=(8, 5))\n",
    "sns.barplot(x='total ratings', y='productId', data=popular_50.sort_values(by='total ratings', ascending=False).head(10), palette='viridis_r')\n",
    "plt.title('Top 10 popular products')\n",
    "plt.xlabel('Total Ratings')\n",
    "plt.ylabel('Product ID')\n",
    "plt.show();"
   ]
  },
  {
   "cell_type": "markdown",
   "metadata": {},
   "source": [
    "#### Distribution of ratings per product"
   ]
  },
  {
   "cell_type": "code",
   "execution_count": 20,
   "metadata": {},
   "outputs": [
    {
     "data": {
      "image/png": "[encoded data removed]",
      "text/plain": [
       "<Figure size 800x500 with 1 Axes>"
      ]
     },
     "metadata": {},
     "output_type": "display_data"
    }
   ],
   "source": [
    "fig = plt.figure(figsize=[8, 5])\n",
    "ax = plt.gca()\n",
    "\n",
    "plt.plot(popular_50['total ratings'].sort_values(ascending=False).values)\n",
    "plt.title('Number of ratings per Product')\n",
    "plt.xlabel('Products')\n",
    "plt.ylabel('Number of ratings')\n",
    "ax.set_xticklabels([])   # Removes the x-axis tick labels\n",
    "plt.show();"
   ]
  },
  {
   "cell_type": "markdown",
   "metadata": {},
   "source": [
    "#### Distribution of mean ratings"
   ]
  },
  {
   "cell_type": "code",
   "execution_count": 21,
   "metadata": {},
   "outputs": [
    {
     "data": {
      "image/png": "[encoded data removed]",
      "text/plain": [
       "<Figure size 800x500 with 1 Axes>"
      ]
     },
     "metadata": {},
     "output_type": "display_data"
    }
   ],
   "source": [
    "plt.figure(figsize=(8, 5))\n",
    "sns.histplot(popular_50['mean rating'], bins=50, kde=True, color='blue')\n",
    "plt.title('Histogram of Mean Ratings')\n",
    "plt.xlabel('Mean Rating')\n",
    "plt.ylabel('Frequency')\n",
    "plt.show();"
   ]
  },
  {
   "cell_type": "markdown",
   "metadata": {},
   "source": [
    "**Inference:** Average ratings of products are clusters at of the points 1, 2, 3, 4, 5. Look like the active users have consistently given high ratings of 5 to the majority of products!\n"
   ]
  },
  {
   "cell_type": "markdown",
   "metadata": {},
   "source": [
    "#### Mean Rating vs Rating count"
   ]
  },
  {
   "cell_type": "code",
   "execution_count": 22,
   "metadata": {},
   "outputs": [
    {
     "data": {
      "text/plain": [
       "<Figure size 1000x800 with 0 Axes>"
      ]
     },
     "metadata": {},
     "output_type": "display_data"
    },
    {
     "data": {
      "image/png": "[encoded data removed]",
      "text/plain": [
       "<Figure size 600x600 with 3 Axes>"
      ]
     },
     "metadata": {},
     "output_type": "display_data"
    }
   ],
   "source": [
    "plt.figure(figsize=(10, 8))\n",
    "sns.jointplot(x='mean rating', y='total ratings', data=popular_50, alpha=0.4, color='blue')\n",
    "plt.show();"
   ]
  },
  {
   "cell_type": "markdown",
   "metadata": {},
   "source": [
    "# Item-Based Collaborative Filtering"
   ]
  },
  {
   "cell_type": "code",
   "execution_count": 23,
   "metadata": {},
   "outputs": [
    {
     "name": "stdout",
     "output_type": "stream",
     "text": [
      "Estimating biases using als...\n",
      "Computing the pearson_baseline similarity matrix...\n",
      "Done computing similarity matrix.\n"
     ]
    },
    {
     "data": {
      "text/plain": [
       "[Prediction(uid='A294BKN913UOGP', iid='B0002E3WKO', r_ui=5.0, est=5, details={'actual_k': 0, 'was_impossible': False}),\n",
       " Prediction(uid='ANTN61S4L7WG9', iid='B00HFAEBWG', r_ui=5.0, est=4.162691459046874, details={'actual_k': 5, 'was_impossible': False}),\n",
       " Prediction(uid='AROQO2VDODT7', iid='B001G9TYHE', r_ui=5.0, est=5, details={'actual_k': 0, 'was_impossible': False}),\n",
       " Prediction(uid='A2YYHSORXIHZCS', iid='B000AMLU1Q', r_ui=3.0, est=4.261789374524737, details={'was_impossible': True, 'reason': 'User and/or item is unknown.'}),\n",
       " Prediction(uid='AYNAH993VDECT', iid='B00CPIF4G0', r_ui=4.0, est=4.0, details={'actual_k': 0, 'was_impossible': False})]"
      ]
     },
     "execution_count": 23,
     "metadata": {},
     "output_type": "execute_result"
    }
   ],
   "source": [
    "from surprise import KNNWithMeans\n",
    "from surprise import Dataset\n",
    "from surprise import accuracy\n",
    "from surprise import Reader\n",
    "from surprise.model_selection import train_test_split\n",
    "\n",
    "# Reading the dataset\n",
    "reader = Reader(rating_scale=(1, 5))   # ratings are on a scale from 1 to 5\n",
    "data = Dataset.load_from_df(user_ratings_min50, reader)\n",
    "\n",
    "trainset, testset = train_test_split(data, test_size=0.3,random_state=10)\n",
    "\n",
    "# k-NN collaborative filtering algorithm with means\n",
    "algo = KNNWithMeans(k=5, sim_options={'name': 'pearson_baseline', 'user_based': False}) # for item-based filtering\n",
    "algo.fit(trainset)\n",
    "\n",
    "test_pred = algo.test(testset)\n",
    "test_pred[:5]"
   ]
  },
  {
   "cell_type": "markdown",
   "metadata": {},
   "source": [
    "**Conclusion**\n",
    "<br>\n",
    "The test_pred variable contains predictions generated by the k-NN collaborative filtering algorithm with means on the testing set. Each prediction in the list includes information about a specific user-item interaction, providing insights into how well the model performs in estimating user preferences. It contains:\n",
    "- uid: User ID\n",
    "- iid: Item ID\n",
    "- r_ui: The true rating\n",
    "- est: The estimated rating\n",
    "- details: A dictionary containing additional details about the prediction\n",
    "<br>\n",
    "\n",
    "Some predictions have the details field indicating 'User and/or item is unknown.' This suggests that the model encountered instances where it lacked information about users or items during testing. This means that during the prediction process, the collaborative filtering algorithm encountered either a user or an item (or both) that it did not have information about in the training set."
   ]
  },
  {
   "cell_type": "markdown",
   "metadata": {},
   "source": [
    "#### Model Evaluation"
   ]
  },
  {
   "cell_type": "code",
   "execution_count": 24,
   "metadata": {},
   "outputs": [
    {
     "name": "stdout",
     "output_type": "stream",
     "text": [
      "RMSE: 1.1397\n",
      "Item-based Model : Test Set ->  1.139729533124278\n"
     ]
    }
   ],
   "source": [
    "print(f\"Item-based Model : Test Set -> \", accuracy.rmse(test_pred, verbose=True))"
   ]
  },
  {
   "cell_type": "markdown",
   "metadata": {},
   "source": [
    "#### Retrieve IDs of customers and products present in trainset\n"
   ]
  },
  {
   "cell_type": "code",
   "execution_count": 25,
   "metadata": {},
   "outputs": [
    {
     "name": "stdout",
     "output_type": "stream",
     "text": [
      "Actual Users: ['ABQWMANK4AR63', 'A6VPK7X53QNAQ', 'A1YVO5V1SO18DZ', 'A3DOPYDOS49I3T', 'AWNJAY0M5UI70']\n",
      "Actual Items: ['B00FQ6CJ0W', 'B001Q9EZS2', 'B003Y5H17I', 'B00180QHCG', 'B00511PS3C']\n"
     ]
    }
   ],
   "source": [
    "raw_user_ids = [trainset.to_raw_uid(inner_id) for inner_id in trainset.all_users()]\n",
    "raw_item_ids = [trainset.to_raw_iid(inner_id) for inner_id in trainset.all_items()]\n",
    "\n",
    "print(\"Actual Users:\", raw_user_ids[:5])\n",
    "print(\"Actual Items:\", raw_item_ids[:5])"
   ]
  },
  {
   "cell_type": "markdown",
   "metadata": {},
   "source": [
    "#### Let `B00511PS3C` be the product purchased by our target customer!"
   ]
  },
  {
   "cell_type": "code",
   "execution_count": 26,
   "metadata": {},
   "outputs": [
    {
     "name": "stdout",
     "output_type": "stream",
     "text": [
      "╒═════╤═══════════════════╕\n",
      "│   # │ Recommendations   │\n",
      "╞═════╪═══════════════════╡\n",
      "│   1 │ B003ES5ZUU        │\n",
      "├─────┼───────────────────┤\n",
      "│   2 │ B0055CAR7Y        │\n",
      "├─────┼───────────────────┤\n",
      "│   3 │ B004CLYEE6        │\n",
      "├─────┼───────────────────┤\n",
      "│   4 │ B0013FRNKG        │\n",
      "├─────┼───────────────────┤\n",
      "│   5 │ B0049YQVHE        │\n",
      "├─────┼───────────────────┤\n",
      "│   6 │ B0002L5R78        │\n",
      "├─────┼───────────────────┤\n",
      "│   7 │ B008TCUXLW        │\n",
      "├─────┼───────────────────┤\n",
      "│   8 │ B00E98O7GC        │\n",
      "├─────┼───────────────────┤\n",
      "│   9 │ B00A35WYBA        │\n",
      "├─────┼───────────────────┤\n",
      "│  10 │ B001196H3S        │\n",
      "╘═════╧═══════════════════╛\n"
     ]
    }
   ],
   "source": [
    "item_id = 'B00511PS3C'\n",
    "number_of_similar_items = 10\n",
    "\n",
    "# Get the integer index for the item ID\n",
    "item_index = algo.trainset.to_inner_iid(item_id)\n",
    "\n",
    "# Get recommendations for the specified item\n",
    "item_recommendation_indices = algo.get_neighbors(item_index, k=number_of_similar_items)\n",
    "\n",
    "item_recommendations = [algo.trainset.to_raw_iid(idx) for idx in item_recommendation_indices]\n",
    "\n",
    "# Print Result\n",
    "print(tabulate(enumerate(item_recommendations, start=1), headers=[\"#\", \"Recommendations\"], tablefmt=\"fancy_grid\"))"
   ]
  },
  {
   "cell_type": "markdown",
   "metadata": {},
   "source": [
    "#### Let `A1YVO5V1SO18DZ` be the target customer"
   ]
  },
  {
   "cell_type": "code",
   "execution_count": 27,
   "metadata": {},
   "outputs": [
    {
     "name": "stdout",
     "output_type": "stream",
     "text": [
      "╒═════╤════════════════════╕\n",
      "│   # │ Recommendations    │\n",
      "╞═════╪════════════════════╡\n",
      "│   1 │ B00FQ6CJ0W         │\n",
      "├─────┼────────────────────┤\n",
      "│   2 │ B001Q9EZS2         │\n",
      "├─────┼────────────────────┤\n",
      "│   3 │ B00180QHCG         │\n",
      "├─────┼────────────────────┤\n",
      "│   4 │ B00511PS3C         │\n",
      "├─────┼────────────────────┤\n",
      "│   5 │ B00007FHDM         │\n",
      "├─────┼────────────────────┤\n",
      "│   6 │ B001DVZXC0         │\n",
      "├─────┼────────────────────┤\n",
      "│   7 │ B00168BSEW         │\n",
      "├─────┼────────────────────┤\n",
      "│   8 │ B002VPE1XY         │\n",
      "├─────┼────────────────────┤\n",
      "│   9 │ B002DUD36S         │\n",
      "├─────┼────────────────────┤\n",
      "│  10 │ B006WAPM78         │\n",
      "╘═════╧════════════════════╛\n"
     ]
    }
   ],
   "source": [
    "user_id = 'A1YVO5V1SO18DZ'\n",
    "number_of_similar_items = 10\n",
    "\n",
    "# Get the integer index for the user ID\n",
    "user_index = algo.trainset.to_inner_uid(user_id)\n",
    "\n",
    "# Get recommendations for the specified user\n",
    "user_recommendations_indices = algo.get_neighbors(user_index, k=number_of_similar_items)\n",
    "\n",
    "user_recommendations = [algo.trainset.to_raw_iid(idx) for idx in user_recommendations_indices]\n",
    "\n",
    "# Print Result\n",
    "print(tabulate(enumerate(user_recommendations, start=1), headers=[\"#\", \"Recommendations \"], tablefmt=\"fancy_grid\"))"
   ]
  },
  {
   "cell_type": "code",
   "execution_count": 28,
   "metadata": {},
   "outputs": [
    {
     "name": "stdout",
     "output_type": "stream",
     "text": [
      "╒═════╤═════════════════╕\n",
      "│   # │ Similar Users   │\n",
      "╞═════╪═════════════════╡\n",
      "│   1 │ ABQWMANK4AR63   │\n",
      "├─────┼─────────────────┤\n",
      "│   2 │ A6VPK7X53QNAQ   │\n",
      "├─────┼─────────────────┤\n",
      "│   3 │ A3DOPYDOS49I3T  │\n",
      "├─────┼─────────────────┤\n",
      "│   4 │ AWNJAY0M5UI70   │\n",
      "├─────┼─────────────────┤\n",
      "│   5 │ A13WOT3RSXKRD5  │\n",
      "├─────┼─────────────────┤\n",
      "│   6 │ A365PBEOWM7EI7  │\n",
      "├─────┼─────────────────┤\n",
      "│   7 │ AGVWTYW0ULXHT   │\n",
      "├─────┼─────────────────┤\n",
      "│   8 │ A3HQAPXAJV7PRX  │\n",
      "├─────┼─────────────────┤\n",
      "│   9 │ ADLVFFE4VBT8    │\n",
      "├─────┼─────────────────┤\n",
      "│  10 │ A3VONQL7YW8UPM  │\n",
      "╘═════╧═════════════════╛\n"
     ]
    }
   ],
   "source": [
    "similar_users = [algo.trainset.to_raw_uid(idx) for idx in user_recommendations_indices]\n",
    "print(tabulate(enumerate(similar_users, start=1), headers=[\"#\", \"Similar Users\"], tablefmt=\"fancy_grid\"))"
   ]
  },
  {
   "cell_type": "markdown",
   "metadata": {},
   "source": [
    "### Report on Item-based Collaborative Filtering.\n",
    "- **Algorithm Configuration:** KNNWithMeans, was configured with user_based=False which sets preference for item-based collaborative filtering.\n",
    "- **Item-Item Collaborative Filtering:** The first segment of the code exemplifies item-item collaborative filtering. A specific item, 'B00511PS3C', is used as a reference point to retrieve recommendations for 10 similar products.\n",
    "- **User-Based Exploration:** In the second section, there is a deviation from the item-centric approach. A specific user, identified by the user ID 'A1YVO5V1SO18DZ', is input into the algorithm to obtain recommendations. On retrieving <u>items</u> the algorithm retrieves items that are recommended for the specified user based on the similarity of items they have interacted with. The recommended items can include products similar to those the user has purchased or interacted with in the past. These items are not necessarily new or unrated by the user. On retrieving </u>user</u> these users are not the target customers for whom recommendations are being sought; instead, they are users whose interactions with items are deemed similar to the specified user.\n",
    "- **Surprise Library Nuances:** In the Surprise library, even if we explicitly configure collaborative filtering as item-based it allows to use user-centric operations like getting neighbors based on a user ID. This the library is designed to handle both item-item and user-item collaborative filtering seamlessly. This design choice can sometimes lead to confusion in terminology.\n",
    "- **Recommendation:** For optimal clarity and alignment with the intended exploration of item-item collaborative filtering, it is advised to adhere to using dedicated item IDs when seeking recommendations with item-based approach."
   ]
  },
  {
   "cell_type": "markdown",
   "metadata": {},
   "source": [
    "# Model-based collaborative filtering system\n",
    "\n",
    "These methods are based on machine learning and data mining techniques. The goal is to train models to be able to make predictions. For example, we could use existing user-item interactions to train a model to predict the top-5 items that a user might like the most. One advantage of these methods is that they are able to recommend a larger number of items to a larger number of users, compared to other methods like memory based approach. They have large coverage, even when working with large sparse matrices."
   ]
  },
  {
   "cell_type": "code",
   "execution_count": 29,
   "metadata": {},
   "outputs": [
    {
     "data": {
      "text/html": [
       "<div>\n",
       "<style scoped>\n",
       "    .dataframe tbody tr th:only-of-type {\n",
       "        vertical-align: middle;\n",
       "    }\n",
       "\n",
       "    .dataframe tbody tr th {\n",
       "        vertical-align: top;\n",
       "    }\n",
       "\n",
       "    .dataframe thead th {\n",
       "        text-align: right;\n",
       "    }\n",
       "</style>\n",
       "<table border=\"1\" class=\"dataframe\">\n",
       "  <thead>\n",
       "    <tr style=\"text-align: right;\">\n",
       "      <th>userId</th>\n",
       "      <th>A100UD67AHFODS</th>\n",
       "      <th>A100WO06OQR8BQ</th>\n",
       "      <th>A105S56ODHGJEK</th>\n",
       "      <th>A105TOJ6LTVMBG</th>\n",
       "      <th>A10AFVU66A79Y1</th>\n",
       "      <th>A10H24TDLK2VDP</th>\n",
       "      <th>A10NMELR4KX0J6</th>\n",
       "      <th>A10O7THJ2O20AG</th>\n",
       "      <th>A10PEXB6XAQ5XF</th>\n",
       "      <th>A10X9ME6R66JDX</th>\n",
       "      <th>...</th>\n",
       "      <th>AYOTEJ617O60K</th>\n",
       "      <th>AYP0YPLSP9ISM</th>\n",
       "      <th>AZ515FFZ7I2P7</th>\n",
       "      <th>AZ8XSDMIX04VJ</th>\n",
       "      <th>AZAC8O310IK4E</th>\n",
       "      <th>AZBXKUH4AIW3X</th>\n",
       "      <th>AZCE11PSTCH1L</th>\n",
       "      <th>AZMY6E8B52L2T</th>\n",
       "      <th>AZNUHQSHZHSUE</th>\n",
       "      <th>AZOK5STV85FBJ</th>\n",
       "    </tr>\n",
       "    <tr>\n",
       "      <th>productId</th>\n",
       "      <th></th>\n",
       "      <th></th>\n",
       "      <th></th>\n",
       "      <th></th>\n",
       "      <th></th>\n",
       "      <th></th>\n",
       "      <th></th>\n",
       "      <th></th>\n",
       "      <th></th>\n",
       "      <th></th>\n",
       "      <th></th>\n",
       "      <th></th>\n",
       "      <th></th>\n",
       "      <th></th>\n",
       "      <th></th>\n",
       "      <th></th>\n",
       "      <th></th>\n",
       "      <th></th>\n",
       "      <th></th>\n",
       "      <th></th>\n",
       "      <th></th>\n",
       "    </tr>\n",
       "  </thead>\n",
       "  <tbody>\n",
       "    <tr>\n",
       "      <th>0594451647</th>\n",
       "      <td>0.0</td>\n",
       "      <td>0.0</td>\n",
       "      <td>0.0</td>\n",
       "      <td>0.0</td>\n",
       "      <td>0.0</td>\n",
       "      <td>0.0</td>\n",
       "      <td>0.0</td>\n",
       "      <td>0.0</td>\n",
       "      <td>0.0</td>\n",
       "      <td>0.0</td>\n",
       "      <td>...</td>\n",
       "      <td>0.0</td>\n",
       "      <td>0.0</td>\n",
       "      <td>0.0</td>\n",
       "      <td>0.0</td>\n",
       "      <td>0.0</td>\n",
       "      <td>0.0</td>\n",
       "      <td>0.0</td>\n",
       "      <td>0.0</td>\n",
       "      <td>0.0</td>\n",
       "      <td>0.0</td>\n",
       "    </tr>\n",
       "    <tr>\n",
       "      <th>0594481813</th>\n",
       "      <td>0.0</td>\n",
       "      <td>0.0</td>\n",
       "      <td>0.0</td>\n",
       "      <td>0.0</td>\n",
       "      <td>0.0</td>\n",
       "      <td>0.0</td>\n",
       "      <td>0.0</td>\n",
       "      <td>0.0</td>\n",
       "      <td>0.0</td>\n",
       "      <td>0.0</td>\n",
       "      <td>...</td>\n",
       "      <td>0.0</td>\n",
       "      <td>0.0</td>\n",
       "      <td>0.0</td>\n",
       "      <td>0.0</td>\n",
       "      <td>0.0</td>\n",
       "      <td>0.0</td>\n",
       "      <td>0.0</td>\n",
       "      <td>0.0</td>\n",
       "      <td>0.0</td>\n",
       "      <td>0.0</td>\n",
       "    </tr>\n",
       "    <tr>\n",
       "      <th>0970407998</th>\n",
       "      <td>0.0</td>\n",
       "      <td>0.0</td>\n",
       "      <td>0.0</td>\n",
       "      <td>0.0</td>\n",
       "      <td>0.0</td>\n",
       "      <td>0.0</td>\n",
       "      <td>0.0</td>\n",
       "      <td>0.0</td>\n",
       "      <td>0.0</td>\n",
       "      <td>0.0</td>\n",
       "      <td>...</td>\n",
       "      <td>0.0</td>\n",
       "      <td>0.0</td>\n",
       "      <td>0.0</td>\n",
       "      <td>0.0</td>\n",
       "      <td>0.0</td>\n",
       "      <td>0.0</td>\n",
       "      <td>0.0</td>\n",
       "      <td>0.0</td>\n",
       "      <td>0.0</td>\n",
       "      <td>0.0</td>\n",
       "    </tr>\n",
       "    <tr>\n",
       "      <th>0972683275</th>\n",
       "      <td>0.0</td>\n",
       "      <td>0.0</td>\n",
       "      <td>0.0</td>\n",
       "      <td>0.0</td>\n",
       "      <td>0.0</td>\n",
       "      <td>0.0</td>\n",
       "      <td>0.0</td>\n",
       "      <td>0.0</td>\n",
       "      <td>0.0</td>\n",
       "      <td>0.0</td>\n",
       "      <td>...</td>\n",
       "      <td>0.0</td>\n",
       "      <td>0.0</td>\n",
       "      <td>0.0</td>\n",
       "      <td>0.0</td>\n",
       "      <td>0.0</td>\n",
       "      <td>0.0</td>\n",
       "      <td>0.0</td>\n",
       "      <td>0.0</td>\n",
       "      <td>0.0</td>\n",
       "      <td>0.0</td>\n",
       "    </tr>\n",
       "    <tr>\n",
       "      <th>1400501466</th>\n",
       "      <td>0.0</td>\n",
       "      <td>0.0</td>\n",
       "      <td>0.0</td>\n",
       "      <td>0.0</td>\n",
       "      <td>0.0</td>\n",
       "      <td>0.0</td>\n",
       "      <td>0.0</td>\n",
       "      <td>0.0</td>\n",
       "      <td>0.0</td>\n",
       "      <td>0.0</td>\n",
       "      <td>...</td>\n",
       "      <td>0.0</td>\n",
       "      <td>0.0</td>\n",
       "      <td>0.0</td>\n",
       "      <td>0.0</td>\n",
       "      <td>0.0</td>\n",
       "      <td>0.0</td>\n",
       "      <td>0.0</td>\n",
       "      <td>0.0</td>\n",
       "      <td>0.0</td>\n",
       "      <td>0.0</td>\n",
       "    </tr>\n",
       "    <tr>\n",
       "      <th>...</th>\n",
       "      <td>...</td>\n",
       "      <td>...</td>\n",
       "      <td>...</td>\n",
       "      <td>...</td>\n",
       "      <td>...</td>\n",
       "      <td>...</td>\n",
       "      <td>...</td>\n",
       "      <td>...</td>\n",
       "      <td>...</td>\n",
       "      <td>...</td>\n",
       "      <td>...</td>\n",
       "      <td>...</td>\n",
       "      <td>...</td>\n",
       "      <td>...</td>\n",
       "      <td>...</td>\n",
       "      <td>...</td>\n",
       "      <td>...</td>\n",
       "      <td>...</td>\n",
       "      <td>...</td>\n",
       "      <td>...</td>\n",
       "      <td>...</td>\n",
       "    </tr>\n",
       "    <tr>\n",
       "      <th>B00LED02VY</th>\n",
       "      <td>0.0</td>\n",
       "      <td>0.0</td>\n",
       "      <td>0.0</td>\n",
       "      <td>0.0</td>\n",
       "      <td>0.0</td>\n",
       "      <td>0.0</td>\n",
       "      <td>0.0</td>\n",
       "      <td>0.0</td>\n",
       "      <td>0.0</td>\n",
       "      <td>0.0</td>\n",
       "      <td>...</td>\n",
       "      <td>0.0</td>\n",
       "      <td>0.0</td>\n",
       "      <td>0.0</td>\n",
       "      <td>0.0</td>\n",
       "      <td>0.0</td>\n",
       "      <td>0.0</td>\n",
       "      <td>0.0</td>\n",
       "      <td>0.0</td>\n",
       "      <td>0.0</td>\n",
       "      <td>0.0</td>\n",
       "    </tr>\n",
       "    <tr>\n",
       "      <th>B00LGN7Y3G</th>\n",
       "      <td>0.0</td>\n",
       "      <td>0.0</td>\n",
       "      <td>0.0</td>\n",
       "      <td>0.0</td>\n",
       "      <td>0.0</td>\n",
       "      <td>0.0</td>\n",
       "      <td>0.0</td>\n",
       "      <td>0.0</td>\n",
       "      <td>0.0</td>\n",
       "      <td>0.0</td>\n",
       "      <td>...</td>\n",
       "      <td>0.0</td>\n",
       "      <td>0.0</td>\n",
       "      <td>0.0</td>\n",
       "      <td>0.0</td>\n",
       "      <td>0.0</td>\n",
       "      <td>0.0</td>\n",
       "      <td>0.0</td>\n",
       "      <td>0.0</td>\n",
       "      <td>0.0</td>\n",
       "      <td>0.0</td>\n",
       "    </tr>\n",
       "    <tr>\n",
       "      <th>B00LGQ6HL8</th>\n",
       "      <td>0.0</td>\n",
       "      <td>0.0</td>\n",
       "      <td>0.0</td>\n",
       "      <td>0.0</td>\n",
       "      <td>0.0</td>\n",
       "      <td>0.0</td>\n",
       "      <td>0.0</td>\n",
       "      <td>0.0</td>\n",
       "      <td>0.0</td>\n",
       "      <td>0.0</td>\n",
       "      <td>...</td>\n",
       "      <td>0.0</td>\n",
       "      <td>0.0</td>\n",
       "      <td>0.0</td>\n",
       "      <td>0.0</td>\n",
       "      <td>0.0</td>\n",
       "      <td>0.0</td>\n",
       "      <td>0.0</td>\n",
       "      <td>0.0</td>\n",
       "      <td>0.0</td>\n",
       "      <td>0.0</td>\n",
       "    </tr>\n",
       "    <tr>\n",
       "      <th>B00LI4ZZO8</th>\n",
       "      <td>0.0</td>\n",
       "      <td>0.0</td>\n",
       "      <td>0.0</td>\n",
       "      <td>0.0</td>\n",
       "      <td>0.0</td>\n",
       "      <td>0.0</td>\n",
       "      <td>0.0</td>\n",
       "      <td>0.0</td>\n",
       "      <td>0.0</td>\n",
       "      <td>0.0</td>\n",
       "      <td>...</td>\n",
       "      <td>0.0</td>\n",
       "      <td>0.0</td>\n",
       "      <td>0.0</td>\n",
       "      <td>0.0</td>\n",
       "      <td>0.0</td>\n",
       "      <td>0.0</td>\n",
       "      <td>0.0</td>\n",
       "      <td>0.0</td>\n",
       "      <td>0.0</td>\n",
       "      <td>0.0</td>\n",
       "    </tr>\n",
       "    <tr>\n",
       "      <th>B00LKG1MC8</th>\n",
       "      <td>0.0</td>\n",
       "      <td>0.0</td>\n",
       "      <td>0.0</td>\n",
       "      <td>0.0</td>\n",
       "      <td>0.0</td>\n",
       "      <td>0.0</td>\n",
       "      <td>0.0</td>\n",
       "      <td>0.0</td>\n",
       "      <td>0.0</td>\n",
       "      <td>0.0</td>\n",
       "      <td>...</td>\n",
       "      <td>0.0</td>\n",
       "      <td>0.0</td>\n",
       "      <td>0.0</td>\n",
       "      <td>0.0</td>\n",
       "      <td>0.0</td>\n",
       "      <td>0.0</td>\n",
       "      <td>0.0</td>\n",
       "      <td>0.0</td>\n",
       "      <td>0.0</td>\n",
       "      <td>0.0</td>\n",
       "    </tr>\n",
       "  </tbody>\n",
       "</table>\n",
       "<p>48190 rows × 1540 columns</p>\n",
       "</div>"
      ],
      "text/plain": [
       "userId      A100UD67AHFODS  A100WO06OQR8BQ  A105S56ODHGJEK  A105TOJ6LTVMBG  \\\n",
       "productId                                                                    \n",
       "0594451647             0.0             0.0             0.0             0.0   \n",
       "0594481813             0.0             0.0             0.0             0.0   \n",
       "0970407998             0.0             0.0             0.0             0.0   \n",
       "0972683275             0.0             0.0             0.0             0.0   \n",
       "1400501466             0.0             0.0             0.0             0.0   \n",
       "...                    ...             ...             ...             ...   \n",
       "B00LED02VY             0.0             0.0             0.0             0.0   \n",
       "B00LGN7Y3G             0.0             0.0             0.0             0.0   \n",
       "B00LGQ6HL8             0.0             0.0             0.0             0.0   \n",
       "B00LI4ZZO8             0.0             0.0             0.0             0.0   \n",
       "B00LKG1MC8             0.0             0.0             0.0             0.0   \n",
       "\n",
       "userId      A10AFVU66A79Y1  A10H24TDLK2VDP  A10NMELR4KX0J6  A10O7THJ2O20AG  \\\n",
       "productId                                                                    \n",
       "0594451647             0.0             0.0             0.0             0.0   \n",
       "0594481813             0.0             0.0             0.0             0.0   \n",
       "0970407998             0.0             0.0             0.0             0.0   \n",
       "0972683275             0.0             0.0             0.0             0.0   \n",
       "1400501466             0.0             0.0             0.0             0.0   \n",
       "...                    ...             ...             ...             ...   \n",
       "B00LED02VY             0.0             0.0             0.0             0.0   \n",
       "B00LGN7Y3G             0.0             0.0             0.0             0.0   \n",
       "B00LGQ6HL8             0.0             0.0             0.0             0.0   \n",
       "B00LI4ZZO8             0.0             0.0             0.0             0.0   \n",
       "B00LKG1MC8             0.0             0.0             0.0             0.0   \n",
       "\n",
       "userId      A10PEXB6XAQ5XF  A10X9ME6R66JDX  ...  AYOTEJ617O60K  AYP0YPLSP9ISM  \\\n",
       "productId                                   ...                                 \n",
       "0594451647             0.0             0.0  ...            0.0            0.0   \n",
       "0594481813             0.0             0.0  ...            0.0            0.0   \n",
       "0970407998             0.0             0.0  ...            0.0            0.0   \n",
       "0972683275             0.0             0.0  ...            0.0            0.0   \n",
       "1400501466             0.0             0.0  ...            0.0            0.0   \n",
       "...                    ...             ...  ...            ...            ...   \n",
       "B00LED02VY             0.0             0.0  ...            0.0            0.0   \n",
       "B00LGN7Y3G             0.0             0.0  ...            0.0            0.0   \n",
       "B00LGQ6HL8             0.0             0.0  ...            0.0            0.0   \n",
       "B00LI4ZZO8             0.0             0.0  ...            0.0            0.0   \n",
       "B00LKG1MC8             0.0             0.0  ...            0.0            0.0   \n",
       "\n",
       "userId      AZ515FFZ7I2P7  AZ8XSDMIX04VJ  AZAC8O310IK4E  AZBXKUH4AIW3X  \\\n",
       "productId                                                                \n",
       "0594451647            0.0            0.0            0.0            0.0   \n",
       "0594481813            0.0            0.0            0.0            0.0   \n",
       "0970407998            0.0            0.0            0.0            0.0   \n",
       "0972683275            0.0            0.0            0.0            0.0   \n",
       "1400501466            0.0            0.0            0.0            0.0   \n",
       "...                   ...            ...            ...            ...   \n",
       "B00LED02VY            0.0            0.0            0.0            0.0   \n",
       "B00LGN7Y3G            0.0            0.0            0.0            0.0   \n",
       "B00LGQ6HL8            0.0            0.0            0.0            0.0   \n",
       "B00LI4ZZO8            0.0            0.0            0.0            0.0   \n",
       "B00LKG1MC8            0.0            0.0            0.0            0.0   \n",
       "\n",
       "userId      AZCE11PSTCH1L  AZMY6E8B52L2T  AZNUHQSHZHSUE  AZOK5STV85FBJ  \n",
       "productId                                                               \n",
       "0594451647            0.0            0.0            0.0            0.0  \n",
       "0594481813            0.0            0.0            0.0            0.0  \n",
       "0970407998            0.0            0.0            0.0            0.0  \n",
       "0972683275            0.0            0.0            0.0            0.0  \n",
       "1400501466            0.0            0.0            0.0            0.0  \n",
       "...                   ...            ...            ...            ...  \n",
       "B00LED02VY            0.0            0.0            0.0            0.0  \n",
       "B00LGN7Y3G            0.0            0.0            0.0            0.0  \n",
       "B00LGQ6HL8            0.0            0.0            0.0            0.0  \n",
       "B00LI4ZZO8            0.0            0.0            0.0            0.0  \n",
       "B00LKG1MC8            0.0            0.0            0.0            0.0  \n",
       "\n",
       "[48190 rows x 1540 columns]"
      ]
     },
     "execution_count": 29,
     "metadata": {},
     "output_type": "execute_result"
    }
   ],
   "source": [
    "utility_matrix = user_ratings_min50.pivot_table(values='Rating', index='productId', columns='userId', fill_value=0)\n",
    "utility_matrix"
   ]
  },
  {
   "cell_type": "markdown",
   "metadata": {},
   "source": [
    "A utility matrix is a tabular representation of user-item interactions, commonly used in collaborative filtering. In this matrix, rows correspond to items (e.g., products), columns represent users, and each cell contains a user's rating for a specific item. The matrix is often `sparse`, as not all users rate all items. The objective of collaborative filtering is to predict missing ratings by identifying patterns and preferences in the existing data."
   ]
  },
  {
   "cell_type": "code",
   "execution_count": 30,
   "metadata": {},
   "outputs": [
    {
     "name": "stdout",
     "output_type": "stream",
     "text": [
      "====================================================================================================\n",
      "Shape of utility matrix: (48190, 1540)\n",
      "Shape of decomposed matrix: (48190, 10)\n",
      "Shape of correlation matrix: (48190, 48190)\n",
      "====================================================================================================\n",
      "The product that user has bought: B00511PS3C\n",
      "====================================================================================================\n",
      "╒═════╤══════════════════╕\n",
      "│   # │ Recommendation   │\n",
      "╞═════╪══════════════════╡\n",
      "│   1 │ B003BLQHN4       │\n",
      "├─────┼──────────────────┤\n",
      "│   2 │ B00GP4BVTO       │\n",
      "├─────┼──────────────────┤\n",
      "│   3 │ B00CAFPF26       │\n",
      "├─────┼──────────────────┤\n",
      "│   4 │ B0082YEH8M       │\n",
      "├─────┼──────────────────┤\n",
      "│   5 │ B00141AZR2       │\n",
      "├─────┼──────────────────┤\n",
      "│   6 │ B007PRHNHO       │\n",
      "├─────┼──────────────────┤\n",
      "│   7 │ B00127OVHI       │\n",
      "├─────┼──────────────────┤\n",
      "│   8 │ B006PWGEQQ       │\n",
      "├─────┼──────────────────┤\n",
      "│   9 │ B0018MI5F6       │\n",
      "├─────┼──────────────────┤\n",
      "│  10 │ B004QK7HI8       │\n",
      "╘═════╧══════════════════╛\n",
      "====================================================================================================\n"
     ]
    }
   ],
   "source": [
    "print(\"=\"*100, f\"\\nShape of utility matrix: {utility_matrix.shape}\", sep='')\n",
    "\n",
    "# Decomposing the utility matrix using Truncated SVD with 10 components\n",
    "from sklearn.decomposition import TruncatedSVD\n",
    "SVD = TruncatedSVD(n_components=10)\n",
    "decomposed_matrix = SVD.fit_transform(utility_matrix)\n",
    "print(f\"Shape of decomposed matrix: {decomposed_matrix.shape}\")\n",
    "\n",
    "# Calculating pairwise correlations between all products\n",
    "correlation_matrix = np.corrcoef(decomposed_matrix)\n",
    "print(f\"Shape of correlation matrix: {correlation_matrix.shape}\\n\", \"=\"*100, sep='')\n",
    "\n",
    "# Let \"B00511PS3C\" be the product purchased by our target customer\n",
    "i = \"B00511PS3C\"\n",
    "print(f\"The product that user has bought: {i}\\n\", \"=\"*100, sep='')\n",
    "\n",
    "# List of available products\n",
    "product_names = list(utility_matrix.index)\n",
    "\n",
    "# Extracting row number of i in utility matrix\n",
    "product_location = product_names.index(i)\n",
    "\n",
    "# Correlation for all items with i based on items rated by other customers\n",
    "correlation = correlation_matrix[product_location]\n",
    "\n",
    "# Creating a DataFrame with product names and their correlation coefficients\n",
    "correlation_df = pd.DataFrame({'Product': product_names, 'Correlation': correlation})\n",
    "\n",
    "# Sorting the DataFrame by correlation in descending order\n",
    "sorted_recommendations = correlation_df.sort_values(by='Correlation', ascending=False)\n",
    "\n",
    "# Recommending top 25 highly correlated products\n",
    "top_recommendations = list(sorted_recommendations['Product'][1:11])  # excluding the item already bought\n",
    "\n",
    "table = tabulate(enumerate(top_recommendations, start=1), headers=[\"#\", \"Recommendation\"], tablefmt=\"fancy_grid\")\n",
    "print(table, \"\\n\", \"=\"*100, sep='')"
   ]
  }
 ],
 "metadata": {
  "kernelspec": {
   "display_name": "Python 3 (ipykernel)",
   "language": "python",
   "name": "python3"
  },
  "language_info": {
   "codemirror_mode": {
    "name": "ipython",
    "version": 3
   },
   "file_extension": ".py",
   "mimetype": "text/x-python",
   "name": "python",
   "nbconvert_exporter": "python",
   "pygments_lexer": "ipython3",
   "version": "3.12.0"
  }
 },
 "nbformat": 4,
 "nbformat_minor": 4
}
